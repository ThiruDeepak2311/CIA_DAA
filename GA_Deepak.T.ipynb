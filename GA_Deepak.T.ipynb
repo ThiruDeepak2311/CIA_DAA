{
 "cells": [
  {
   "cell_type": "code",
   "execution_count": 38,
   "id": "9df8eacc-16e3-4bbe-9c64-dae412cc9c33",
   "metadata": {},
   "outputs": [],
   "source": [
    "import pandas as pd\n",
    "import numpy as np\n",
    "import random\n",
    "import seaborn as sns\n",
    "import matplotlib.pyplot as plt\n",
    "from sklearn.metrics import classification_report"
   ]
  },
  {
   "cell_type": "code",
   "execution_count": 78,
   "id": "11e47aef-a1ea-4481-895e-16791962a85e",
   "metadata": {},
   "outputs": [
    {
     "name": "stdout",
     "output_type": "stream",
     "text": [
      "Shape :  (5000, 14)\n"
     ]
    },
    {
     "data": {
      "text/html": [
       "<div>\n",
       "<style scoped>\n",
       "    .dataframe tbody tr th:only-of-type {\n",
       "        vertical-align: middle;\n",
       "    }\n",
       "\n",
       "    .dataframe tbody tr th {\n",
       "        vertical-align: top;\n",
       "    }\n",
       "\n",
       "    .dataframe thead th {\n",
       "        text-align: right;\n",
       "    }\n",
       "</style>\n",
       "<table border=\"1\" class=\"dataframe\">\n",
       "  <thead>\n",
       "    <tr style=\"text-align: right;\">\n",
       "      <th></th>\n",
       "      <th>ID</th>\n",
       "      <th>Age</th>\n",
       "      <th>Experience</th>\n",
       "      <th>Income</th>\n",
       "      <th>ZIP Code</th>\n",
       "      <th>Family</th>\n",
       "      <th>CCAvg</th>\n",
       "      <th>Education</th>\n",
       "      <th>Mortgage</th>\n",
       "      <th>Personal Loan</th>\n",
       "      <th>Securities Account</th>\n",
       "      <th>CD Account</th>\n",
       "      <th>Online</th>\n",
       "      <th>CreditCard</th>\n",
       "    </tr>\n",
       "  </thead>\n",
       "  <tbody>\n",
       "    <tr>\n",
       "      <th>0</th>\n",
       "      <td>1</td>\n",
       "      <td>25</td>\n",
       "      <td>1</td>\n",
       "      <td>49</td>\n",
       "      <td>91107</td>\n",
       "      <td>4</td>\n",
       "      <td>1.6</td>\n",
       "      <td>1</td>\n",
       "      <td>0</td>\n",
       "      <td>0</td>\n",
       "      <td>1</td>\n",
       "      <td>0</td>\n",
       "      <td>0</td>\n",
       "      <td>0</td>\n",
       "    </tr>\n",
       "    <tr>\n",
       "      <th>1</th>\n",
       "      <td>2</td>\n",
       "      <td>45</td>\n",
       "      <td>19</td>\n",
       "      <td>34</td>\n",
       "      <td>90089</td>\n",
       "      <td>3</td>\n",
       "      <td>1.5</td>\n",
       "      <td>1</td>\n",
       "      <td>0</td>\n",
       "      <td>0</td>\n",
       "      <td>1</td>\n",
       "      <td>0</td>\n",
       "      <td>0</td>\n",
       "      <td>0</td>\n",
       "    </tr>\n",
       "    <tr>\n",
       "      <th>2</th>\n",
       "      <td>3</td>\n",
       "      <td>39</td>\n",
       "      <td>15</td>\n",
       "      <td>11</td>\n",
       "      <td>94720</td>\n",
       "      <td>1</td>\n",
       "      <td>1.0</td>\n",
       "      <td>1</td>\n",
       "      <td>0</td>\n",
       "      <td>0</td>\n",
       "      <td>0</td>\n",
       "      <td>0</td>\n",
       "      <td>0</td>\n",
       "      <td>0</td>\n",
       "    </tr>\n",
       "    <tr>\n",
       "      <th>3</th>\n",
       "      <td>4</td>\n",
       "      <td>35</td>\n",
       "      <td>9</td>\n",
       "      <td>100</td>\n",
       "      <td>94112</td>\n",
       "      <td>1</td>\n",
       "      <td>2.7</td>\n",
       "      <td>2</td>\n",
       "      <td>0</td>\n",
       "      <td>0</td>\n",
       "      <td>0</td>\n",
       "      <td>0</td>\n",
       "      <td>0</td>\n",
       "      <td>0</td>\n",
       "    </tr>\n",
       "    <tr>\n",
       "      <th>4</th>\n",
       "      <td>5</td>\n",
       "      <td>35</td>\n",
       "      <td>8</td>\n",
       "      <td>45</td>\n",
       "      <td>91330</td>\n",
       "      <td>4</td>\n",
       "      <td>1.0</td>\n",
       "      <td>2</td>\n",
       "      <td>0</td>\n",
       "      <td>0</td>\n",
       "      <td>0</td>\n",
       "      <td>0</td>\n",
       "      <td>0</td>\n",
       "      <td>1</td>\n",
       "    </tr>\n",
       "  </tbody>\n",
       "</table>\n",
       "</div>"
      ],
      "text/plain": [
       "   ID  Age  Experience  Income  ZIP Code  Family  CCAvg  Education  Mortgage  \\\n",
       "0   1   25           1      49     91107       4    1.6          1         0   \n",
       "1   2   45          19      34     90089       3    1.5          1         0   \n",
       "2   3   39          15      11     94720       1    1.0          1         0   \n",
       "3   4   35           9     100     94112       1    2.7          2         0   \n",
       "4   5   35           8      45     91330       4    1.0          2         0   \n",
       "\n",
       "   Personal Loan  Securities Account  CD Account  Online  CreditCard  \n",
       "0              0                   1           0       0           0  \n",
       "1              0                   1           0       0           0  \n",
       "2              0                   0           0       0           0  \n",
       "3              0                   0           0       0           0  \n",
       "4              0                   0           0       0           1  "
      ]
     },
     "execution_count": 78,
     "metadata": {},
     "output_type": "execute_result"
    }
   ],
   "source": [
    "df = pd.read_csv(r\"C:\\Users\\Deepak Thirukkumaran\\OneDrive\\Documents\\Education\\SNU b.tech A.I & D.S\\2nd year_2022-23\\4th SEMESTER\\DAA\\CIA_2\\Bank_Personal_Loan_Modelling.csv\")\n",
    "print(\"Shape : \", df.shape)\n",
    "df.head()"
   ]
  },
  {
   "cell_type": "code",
   "execution_count": 79,
   "id": "34bf1a6c-d860-4800-9296-8c9e6bc72301",
   "metadata": {},
   "outputs": [
    {
     "name": "stdout",
     "output_type": "stream",
     "text": [
      "Duplicate: 13\n",
      "Null: 0\n"
     ]
    }
   ],
   "source": [
    "df.drop([\"ID\", \"ZIP Code\"],axis=1,inplace=True)\n",
    "duplicate_str = \"Duplicate: {}\".format(df.duplicated().sum())\n",
    "null_str = \"Null: {}\".format(df.isnull().sum().sum())\n",
    "\n",
    "print(duplicate_str)\n",
    "print(null_str)"
   ]
  },
  {
   "cell_type": "code",
   "execution_count": 80,
   "id": "c96595ab-cd6a-44f1-9d44-6711a7c5addb",
   "metadata": {},
   "outputs": [
    {
     "name": "stdout",
     "output_type": "stream",
     "text": [
      "[ 1 19 15  9  8 13 27 24 10 39  5 23 32 41 30 14 18 21 28 31 11 16 20 35\n",
      "  6 25  7 12 26 37 17  2 36 29  3 22 -1 34  0 38 40 33  4 -2 42 -3 43]\n"
     ]
    }
   ],
   "source": [
    "print(df[\"Experience\"].unique())\n",
    "df[\"Experience\"] = abs(df[\"Experience\"])"
   ]
  },
  {
   "cell_type": "code",
   "execution_count": 81,
   "id": "47b501c5-da7f-45dd-866a-4b63a76d6f6f",
   "metadata": {},
   "outputs": [
    {
     "data": {
      "text/plain": [
       "Index(['Age', 'Experience', 'Income', 'Family', 'CCAvg', 'Education',\n",
       "       'Mortgage', 'Personal Loan', 'Securities Account', 'CD Account',\n",
       "       'Online', 'CreditCard'],\n",
       "      dtype='object')"
      ]
     },
     "execution_count": 81,
     "metadata": {},
     "output_type": "execute_result"
    }
   ],
   "source": [
    "df.columns"
   ]
  },
  {
   "cell_type": "code",
   "execution_count": 82,
   "id": "21bc7204-bd64-4f91-8ae4-4f4f5f78949c",
   "metadata": {},
   "outputs": [],
   "source": [
    "df = df[['Age', 'Experience', 'Income', 'Family', 'CCAvg','Education', 'Mortgage', 'Securities Account','CD Account', 'Online', 'CreditCard', 'Personal Loan']]\n",
    "X = df.iloc[:,:-1].values\n",
    "Y = df.iloc[:,-1].values"
   ]
  },
  {
   "cell_type": "code",
   "execution_count": 132,
   "id": "30b96b8f-a2c2-4c29-a658-2aab4b878c05",
   "metadata": {},
   "outputs": [
    {
     "data": {
      "text/plain": [
       "((3500, 11), (3500,))"
      ]
     },
     "execution_count": 132,
     "metadata": {},
     "output_type": "execute_result"
    }
   ],
   "source": [
    "x,y = X,Y\n",
    "from sklearn.model_selection import train_test_split\n",
    "\n",
    "x_train,x_test,y_train,y_test = train_test_split(x,y,test_size=0.30,random_state=53)\n",
    "from sklearn.preprocessing import StandardScaler\n",
    "\n",
    "sc = StandardScaler()\n",
    "x_train = sc.fit_transform(x_train)\n",
    "x_test = sc.transform(x_test)\n",
    "x_train.shape, y_train.shape"
   ]
  },
  {
   "cell_type": "code",
   "execution_count": 133,
   "id": "1b1e4dde-a1a0-4686-8f61-16aab35f802e",
   "metadata": {},
   "outputs": [],
   "source": [
    "import torch\n",
    "from torch.utils.data import DataLoader, TensorDataset"
   ]
  },
  {
   "cell_type": "code",
   "execution_count": 134,
   "id": "0b8d1951-faeb-4975-b5ae-c3c22a7693c0",
   "metadata": {},
   "outputs": [],
   "source": [
    "BATCH_SIZE = 3"
   ]
  },
  {
   "cell_type": "code",
   "execution_count": 135,
   "id": "2a1ee84f-12b5-4815-b8ad-fcbf05735101",
   "metadata": {},
   "outputs": [
    {
     "data": {
      "text/plain": [
       "(torch.Size([3500, 11]), torch.Size([3500]))"
      ]
     },
     "execution_count": 135,
     "metadata": {},
     "output_type": "execute_result"
    }
   ],
   "source": [
    "train_x = torch.from_numpy(x_train).to(torch.float32)\n",
    "train_y = torch.from_numpy(y_train).to(torch.float32)\n",
    "train_x.shape, train_y.shape"
   ]
  },
  {
   "cell_type": "code",
   "execution_count": 136,
   "id": "faa7c2c0-d671-41d2-b35e-e594dc545fca",
   "metadata": {},
   "outputs": [],
   "source": [
    "data = TensorDataset(train_x,train_y)\n",
    "data = DataLoader(data,batch_size=BATCH_SIZE,shuffle=True)"
   ]
  },
  {
   "cell_type": "code",
   "execution_count": 137,
   "id": "e0eecada-4a28-443c-889b-0ebc867b3fe0",
   "metadata": {},
   "outputs": [],
   "source": [
    "class Model(torch.nn.Module):\n",
    "    \n",
    "    def __init__(self):\n",
    "        super(Model,self).__init__()\n",
    "        \n",
    "        self.layer1 = torch.nn.Linear(11,16)\n",
    "        self.layer2 = torch.nn.Linear(16,1)\n",
    "        self.sigmoid = torch.nn.Sigmoid()\n",
    "        self.relu = torch.nn.ReLU()\n",
    "        \n",
    "    def forward(self, x):\n",
    "        x = self.layer1(x)\n",
    "        x = self.relu(x)\n",
    "        x = self.layer2(x)\n",
    "        x = self.sigmoid(x)\n",
    "        return x"
   ]
  },
  {
   "cell_type": "code",
   "execution_count": 138,
   "id": "7659e761-2fdf-47fa-9bb9-4798c8a78722",
   "metadata": {},
   "outputs": [
    {
     "name": "stdout",
     "output_type": "stream",
     "text": [
      "Model(\n",
      "  (layer1): Linear(in_features=11, out_features=16, bias=True)\n",
      "  (layer2): Linear(in_features=16, out_features=1, bias=True)\n",
      "  (sigmoid): Sigmoid()\n",
      "  (relu): ReLU()\n",
      ")\n"
     ]
    }
   ],
   "source": [
    "model = Model()\n",
    "print(model)"
   ]
  },
  {
   "cell_type": "code",
   "execution_count": 139,
   "id": "6dc21ce3-bb67-4e8a-8df0-d300bdacef65",
   "metadata": {},
   "outputs": [],
   "source": [
    "def fitness_function(model):\n",
    "    \n",
    "    y_pred = model(train_x)\n",
    "    y_pred = torch.where(y_pred>=0.5, 1, 0).flatten()\n",
    "    accuracy = (y_pred == train_y).sum().float().item() / len(data.dataset)\n",
    "    \n",
    "    return accuracy"
   ]
  },
  {
   "cell_type": "code",
   "execution_count": 151,
   "id": "8f4c2a44-ae20-4fee-aa3f-5b5db146da27",
   "metadata": {},
   "outputs": [],
   "source": [
    "def crossover_mutation(model1,model2):\n",
    "    # Shape of the weights and biases\n",
    "    shp = [i.numpy().shape for i in model1.parameters()]\n",
    "    sz = [i[0]*i[1] if len(i) == 2 else i[0] for i in shp]\n",
    "\n",
    "    matrix_1 = np.concatenate([i.numpy().flatten() for i in model1.parameters()])\n",
    "    matrix_2 = np.concatenate([i.numpy().flatten() for i in model2.parameters()])\n",
    "    \n",
    "\n",
    "    start = len(matrix_1)//2 - 10\n",
    "    end = len(matrix_1)//2 + 10\n",
    "    mid_value = random.randrange(start,end)\n",
    "    \n",
    "    main_child_1 = np.concatenate([matrix_1[:mid_value], matrix_2[mid_value:]])\n",
    "    main_child_2 = np.concatenate([matrix_2[:mid_value], matrix_1[mid_value:]])\n",
    "    \n",
    "\n",
    "    random_start = random.randrange(0,len(matrix_1)//2)\n",
    "    random_end = random.randrange(random_start,len(matrix_1))\n",
    "    \n",
    "    child_1_mutate = main_child_1.copy()\n",
    "    child_1_mutate[random_start:random_end] = child_1_mutate[random_start:random_end][::-1]\n",
    "    \n",
    "\n",
    "    random_start = random.randrange(0,len(matrix_1)//2)\n",
    "    random_end = random.randrange(random_start,len(matrix_1))\n",
    "    \n",
    "    child_2_mutate = main_child_2.copy()\n",
    "    child_2_mutate[random_start:random_end] = child_2_mutate[random_start:random_end][::-1]\n",
    "    \n",
    "\n",
    "    children = [main_child_1, main_child_2, child_1_mutate, child_2_mutate]\n",
    "    output = list()\n",
    "    \n",
    "    for child in children:\n",
    "        param = list()\n",
    "        cum_sum = 0\n",
    "        for i in range(len(sz)):\n",
    "            array = child[cum_sum : cum_sum + sz[i]]\n",
    "            array = array.reshape(shp[i])\n",
    "            cum_sum += sz[i]\n",
    "            param.append(array)\n",
    "        param = np.array(param, dtype=\"object\")\n",
    "        output.append(param)\n",
    "    \n",
    "    output = np.array(output, dtype=\"object\")\n",
    "    return output"
   ]
  },
  {
   "cell_type": "code",
   "execution_count": 146,
   "id": "bc2eb0c0-db29-468e-9998-5e77c3873843",
   "metadata": {},
   "outputs": [],
   "source": [
    "torch.manual_seed(69)\n",
    "torch.set_grad_enabled(False)\n",
    "population_size = 10\n",
    "\n",
    "def train(no):\n",
    "\n",
    "    population = np.array([Model() for i in range(population_size)])\n",
    "    \n",
    "    best_model = None\n",
    "    \n",
    "    for loop in range(no):\n",
    "\n",
    "        population = population[np.argsort([fitness_function(model) for model in population])]\n",
    "        \n",
    "\n",
    "        best_model = population[-1]\n",
    "        if(loop%10 == 0):\n",
    "            print(\"Gen\", loop, \" :\", fitness_function(population[-1]))\n",
    "        \n",
    "\n",
    "        parent_max_1 = population[-1]\n",
    "        parent_max_2 = population[-2]\n",
    "        parent_max_3 = population[-3]\n",
    "        parent_max_4 = population[-4] \n",
    "        parent_1 = population[0]\n",
    "        parent_2 = population[1]\n",
    "        \n",
    "\n",
    "        output_1 = crossover_mutation(parent_max_1, parent_max_3)\n",
    "        output_2 = crossover_mutation(parent_max_2, parent_max_4)\n",
    "        output = np.concatenate([output_1, output_2])\n",
    "        \n",
    "\n",
    "        new_population = np.array([Model() for i in range(len(output))])\n",
    "        for count, model in enumerate(new_population, 0):\n",
    "            for index, param in enumerate(model.parameters(), 0):\n",
    "                param.data = (torch.tensor(output[count][index]))\n",
    "        \n",
    "\n",
    "        new_population = np.concatenate([new_population, [parent_1, parent_2]])\n",
    "        \n",
    "\n",
    "        population = new_population.copy()\n",
    "        \n",
    "    return best_model"
   ]
  },
  {
   "cell_type": "code",
   "execution_count": 147,
   "id": "ab657fe2-1a60-4f50-ab86-dc4d6669996d",
   "metadata": {},
   "outputs": [
    {
     "name": "stdout",
     "output_type": "stream",
     "text": [
      "Gen 0  : 0.8251428571428572\n",
      "Gen 10  : 0.9148571428571428\n",
      "Gen 20  : 0.9145714285714286\n",
      "Gen 30  : 0.9131428571428571\n",
      "Gen 40  : 0.9154285714285715\n",
      "Gen 50  : 0.9237142857142857\n",
      "Gen 60  : 0.9225714285714286\n",
      "Gen 70  : 0.9237142857142857\n",
      "Gen 80  : 0.9245714285714286\n",
      "Gen 90  : 0.924\n"
     ]
    }
   ],
   "source": [
    "best_model = train(100)"
   ]
  },
  {
   "cell_type": "code",
   "execution_count": 148,
   "id": "7f7766e6-f1e1-40a9-83d6-f68e7ec6c8f5",
   "metadata": {},
   "outputs": [],
   "source": [
    "test_x = torch.from_numpy(x_test).to(torch.float32)\n",
    "test_y = torch.from_numpy(y_test).to(torch.float32)"
   ]
  },
  {
   "cell_type": "code",
   "execution_count": 149,
   "id": "28bc7634-5539-43f2-a753-7b0baa96bd71",
   "metadata": {},
   "outputs": [],
   "source": [
    "test = TensorDataset(test_x,test_y)\n",
    "test = DataLoader(test,batch_size=1)"
   ]
  },
  {
   "cell_type": "code",
   "execution_count": 150,
   "id": "12e4414a-686b-4f4c-8bae-f1fe56ead648",
   "metadata": {},
   "outputs": [
    {
     "name": "stdout",
     "output_type": "stream",
     "text": [
      "              precision    recall  f1-score   support\n",
      "\n",
      "           0       1.00      0.92      0.96      1462\n",
      "           1       0.22      0.87      0.35        38\n",
      "\n",
      "    accuracy                           0.92      1500\n",
      "   macro avg       0.61      0.89      0.66      1500\n",
      "weighted avg       0.98      0.92      0.94      1500\n",
      "\n"
     ]
    }
   ],
   "source": [
    "y_pred = best_model(test_x)\n",
    "y_pred = torch.where(y_pred>=0.5, 1, 0).flatten()\n",
    "print(classification_report(y_pred,test_y))"
   ]
  }
 ],
 "metadata": {
  "kernelspec": {
   "display_name": "Python 3 (ipykernel)",
   "language": "python",
   "name": "python3"
  },
  "language_info": {
   "codemirror_mode": {
    "name": "ipython",
    "version": 3
   },
   "file_extension": ".py",
   "mimetype": "text/x-python",
   "name": "python",
   "nbconvert_exporter": "python",
   "pygments_lexer": "ipython3",
   "version": "3.10.7"
  }
 },
 "nbformat": 4,
 "nbformat_minor": 5
}
