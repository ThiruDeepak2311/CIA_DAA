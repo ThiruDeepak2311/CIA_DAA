{
 "cells": [
  {
   "cell_type": "code",
   "execution_count": 1,
   "id": "39c119d2-38da-449d-97f2-09516e190dba",
   "metadata": {},
   "outputs": [],
   "source": [
    "import numpy as np\n",
    "import pandas as pd\n",
    "import matplotlib.pyplot as plt\n",
    "import seaborn as sns\n",
    "import random\n",
    "from sklearn.metrics import classification_report"
   ]
  },
  {
   "cell_type": "code",
   "execution_count": 9,
   "id": "26e5e7a2-ddc0-41c9-8cb0-4688a4cd874e",
   "metadata": {},
   "outputs": [],
   "source": [
    "df = pd.read_csv(r\"C:\\Users\\Deepak Thirukkumaran\\OneDrive\\Documents\\Education\\SNU b.tech A.I & D.S\\2nd year_2022-23\\4th SEMESTER\\DAA\\CIA_2\\Bank_Personal_Loan_Modelling.csv\")"
   ]
  },
  {
   "cell_type": "code",
   "execution_count": 10,
   "id": "a8c18dd5-0230-4330-bb00-091b0068378d",
   "metadata": {},
   "outputs": [
    {
     "name": "stdout",
     "output_type": "stream",
     "text": [
      "Shape :  (5000, 14)\n"
     ]
    },
    {
     "data": {
      "text/html": [
       "<div>\n",
       "<style scoped>\n",
       "    .dataframe tbody tr th:only-of-type {\n",
       "        vertical-align: middle;\n",
       "    }\n",
       "\n",
       "    .dataframe tbody tr th {\n",
       "        vertical-align: top;\n",
       "    }\n",
       "\n",
       "    .dataframe thead th {\n",
       "        text-align: right;\n",
       "    }\n",
       "</style>\n",
       "<table border=\"1\" class=\"dataframe\">\n",
       "  <thead>\n",
       "    <tr style=\"text-align: right;\">\n",
       "      <th></th>\n",
       "      <th>ID</th>\n",
       "      <th>Age</th>\n",
       "      <th>Experience</th>\n",
       "      <th>Income</th>\n",
       "      <th>ZIP Code</th>\n",
       "      <th>Family</th>\n",
       "      <th>CCAvg</th>\n",
       "      <th>Education</th>\n",
       "      <th>Mortgage</th>\n",
       "      <th>Personal Loan</th>\n",
       "      <th>Securities Account</th>\n",
       "      <th>CD Account</th>\n",
       "      <th>Online</th>\n",
       "      <th>CreditCard</th>\n",
       "    </tr>\n",
       "  </thead>\n",
       "  <tbody>\n",
       "    <tr>\n",
       "      <th>0</th>\n",
       "      <td>1</td>\n",
       "      <td>25</td>\n",
       "      <td>1</td>\n",
       "      <td>49</td>\n",
       "      <td>91107</td>\n",
       "      <td>4</td>\n",
       "      <td>1.6</td>\n",
       "      <td>1</td>\n",
       "      <td>0</td>\n",
       "      <td>0</td>\n",
       "      <td>1</td>\n",
       "      <td>0</td>\n",
       "      <td>0</td>\n",
       "      <td>0</td>\n",
       "    </tr>\n",
       "    <tr>\n",
       "      <th>1</th>\n",
       "      <td>2</td>\n",
       "      <td>45</td>\n",
       "      <td>19</td>\n",
       "      <td>34</td>\n",
       "      <td>90089</td>\n",
       "      <td>3</td>\n",
       "      <td>1.5</td>\n",
       "      <td>1</td>\n",
       "      <td>0</td>\n",
       "      <td>0</td>\n",
       "      <td>1</td>\n",
       "      <td>0</td>\n",
       "      <td>0</td>\n",
       "      <td>0</td>\n",
       "    </tr>\n",
       "    <tr>\n",
       "      <th>2</th>\n",
       "      <td>3</td>\n",
       "      <td>39</td>\n",
       "      <td>15</td>\n",
       "      <td>11</td>\n",
       "      <td>94720</td>\n",
       "      <td>1</td>\n",
       "      <td>1.0</td>\n",
       "      <td>1</td>\n",
       "      <td>0</td>\n",
       "      <td>0</td>\n",
       "      <td>0</td>\n",
       "      <td>0</td>\n",
       "      <td>0</td>\n",
       "      <td>0</td>\n",
       "    </tr>\n",
       "    <tr>\n",
       "      <th>3</th>\n",
       "      <td>4</td>\n",
       "      <td>35</td>\n",
       "      <td>9</td>\n",
       "      <td>100</td>\n",
       "      <td>94112</td>\n",
       "      <td>1</td>\n",
       "      <td>2.7</td>\n",
       "      <td>2</td>\n",
       "      <td>0</td>\n",
       "      <td>0</td>\n",
       "      <td>0</td>\n",
       "      <td>0</td>\n",
       "      <td>0</td>\n",
       "      <td>0</td>\n",
       "    </tr>\n",
       "    <tr>\n",
       "      <th>4</th>\n",
       "      <td>5</td>\n",
       "      <td>35</td>\n",
       "      <td>8</td>\n",
       "      <td>45</td>\n",
       "      <td>91330</td>\n",
       "      <td>4</td>\n",
       "      <td>1.0</td>\n",
       "      <td>2</td>\n",
       "      <td>0</td>\n",
       "      <td>0</td>\n",
       "      <td>0</td>\n",
       "      <td>0</td>\n",
       "      <td>0</td>\n",
       "      <td>1</td>\n",
       "    </tr>\n",
       "  </tbody>\n",
       "</table>\n",
       "</div>"
      ],
      "text/plain": [
       "   ID  Age  Experience  Income  ZIP Code  Family  CCAvg  Education  Mortgage  \\\n",
       "0   1   25           1      49     91107       4    1.6          1         0   \n",
       "1   2   45          19      34     90089       3    1.5          1         0   \n",
       "2   3   39          15      11     94720       1    1.0          1         0   \n",
       "3   4   35           9     100     94112       1    2.7          2         0   \n",
       "4   5   35           8      45     91330       4    1.0          2         0   \n",
       "\n",
       "   Personal Loan  Securities Account  CD Account  Online  CreditCard  \n",
       "0              0                   1           0       0           0  \n",
       "1              0                   1           0       0           0  \n",
       "2              0                   0           0       0           0  \n",
       "3              0                   0           0       0           0  \n",
       "4              0                   0           0       0           1  "
      ]
     },
     "execution_count": 10,
     "metadata": {},
     "output_type": "execute_result"
    }
   ],
   "source": [
    "print(\"Shape : \", df.shape)\n",
    "df.head()"
   ]
  },
  {
   "cell_type": "code",
   "execution_count": 11,
   "id": "c28c2d2f-5ebe-4eae-8b30-bb7f4cea6728",
   "metadata": {},
   "outputs": [
    {
     "name": "stdout",
     "output_type": "stream",
     "text": [
      "Duplicate :  13\n",
      "Null :  0\n"
     ]
    }
   ],
   "source": [
    "df.drop([\"ID\", \"ZIP Code\"],axis=1,inplace=True)\n",
    "print(\"Duplicate : \", df.duplicated().sum())\n",
    "print(\"Null : \", df.isnull().sum().sum())"
   ]
  },
  {
   "cell_type": "code",
   "execution_count": 12,
   "id": "f3015c73-2294-4d3d-8bb4-ca068c8865c8",
   "metadata": {},
   "outputs": [
    {
     "name": "stdout",
     "output_type": "stream",
     "text": [
      "[ 1 19 15  9  8 13 27 24 10 39  5 23 32 41 30 14 18 21 28 31 11 16 20 35\n",
      "  6 25  7 12 26 37 17  2 36 29  3 22 -1 34  0 38 40 33  4 -2 42 -3 43]\n"
     ]
    }
   ],
   "source": [
    "print(df[\"Experience\"].unique())\n",
    "df[\"Experience\"] = abs(df[\"Experience\"])"
   ]
  },
  {
   "cell_type": "code",
   "execution_count": 13,
   "id": "518c707f-0270-4048-912b-f1c3d3097606",
   "metadata": {},
   "outputs": [
    {
     "data": {
      "text/plain": [
       "Index(['Age', 'Experience', 'Income', 'Family', 'CCAvg', 'Education',\n",
       "       'Mortgage', 'Personal Loan', 'Securities Account', 'CD Account',\n",
       "       'Online', 'CreditCard'],\n",
       "      dtype='object')"
      ]
     },
     "execution_count": 13,
     "metadata": {},
     "output_type": "execute_result"
    }
   ],
   "source": [
    "df.columns"
   ]
  },
  {
   "cell_type": "code",
   "execution_count": 14,
   "id": "3d1cd371-d288-4581-92a0-aa0c66627010",
   "metadata": {},
   "outputs": [],
   "source": [
    "df = df[['Age', 'Experience', 'Income', 'Family', 'CCAvg','Education', 'Mortgage', 'Securities Account','CD Account', 'Online', 'CreditCard', 'Personal Loan']]\n"
   ]
  },
  {
   "cell_type": "code",
   "execution_count": 15,
   "id": "72612b22-bcc0-47a2-9e04-5610adb06c14",
   "metadata": {},
   "outputs": [],
   "source": [
    "X = df.iloc[:,:-1].values\n",
    "Y = df.iloc[:,-1].values"
   ]
  },
  {
   "cell_type": "code",
   "execution_count": 16,
   "id": "021909d1-6dc4-4518-a659-2dcac0a8514b",
   "metadata": {},
   "outputs": [],
   "source": [
    "x,y = X,Y"
   ]
  },
  {
   "cell_type": "code",
   "execution_count": 22,
   "id": "9c5c49b8-4b32-4df6-bc55-c3d11bf94fff",
   "metadata": {},
   "outputs": [],
   "source": [
    "from sklearn.model_selection import train_test_split\n",
    "\n",
    "x_train,x_test,y_train,y_test = train_test_split(x,y,test_size=0.30,random_state=53)"
   ]
  },
  {
   "cell_type": "code",
   "execution_count": 23,
   "id": "a3895490-5d42-4088-8d70-78595078f3a9",
   "metadata": {},
   "outputs": [],
   "source": [
    "from sklearn.preprocessing import StandardScaler\n",
    "\n",
    "sc = StandardScaler()\n",
    "x_train = sc.fit_transform(x_train)\n",
    "x_test = sc.transform(x_test)"
   ]
  },
  {
   "cell_type": "code",
   "execution_count": 24,
   "id": "2921b260-8e09-46b7-aaaa-b68978d20a58",
   "metadata": {},
   "outputs": [
    {
     "data": {
      "text/plain": [
       "((3500, 11), (3500,))"
      ]
     },
     "execution_count": 24,
     "metadata": {},
     "output_type": "execute_result"
    }
   ],
   "source": [
    "x_train.shape, y_train.shape"
   ]
  },
  {
   "cell_type": "code",
   "execution_count": 25,
   "id": "639b6de1-7e6c-4405-8703-1e6304f49911",
   "metadata": {},
   "outputs": [],
   "source": [
    "import torch\n",
    "from torch.utils.data import DataLoader, TensorDataset"
   ]
  },
  {
   "cell_type": "code",
   "execution_count": 26,
   "id": "5c1661ba-13e5-400d-b0f3-58158a05816d",
   "metadata": {},
   "outputs": [],
   "source": [
    "BATCH_SIZE = 3"
   ]
  },
  {
   "cell_type": "code",
   "execution_count": 27,
   "id": "b1d1a130-4ce1-4b40-8f3e-ade049cb1389",
   "metadata": {},
   "outputs": [],
   "source": [
    "train_x = torch.from_numpy(x_train).to(torch.float32)\n",
    "train_y = torch.from_numpy(y_train).to(torch.float32)"
   ]
  },
  {
   "cell_type": "code",
   "execution_count": 28,
   "id": "4de0b407-73cb-4803-8c60-1f0962cfa1be",
   "metadata": {},
   "outputs": [
    {
     "data": {
      "text/plain": [
       "(torch.Size([3500, 11]), torch.Size([3500]))"
      ]
     },
     "execution_count": 28,
     "metadata": {},
     "output_type": "execute_result"
    }
   ],
   "source": [
    "train_x.shape, train_y.shape"
   ]
  },
  {
   "cell_type": "code",
   "execution_count": 29,
   "id": "cc773b07-04dc-4f05-90e9-42b98027e5ef",
   "metadata": {},
   "outputs": [],
   "source": [
    "data = TensorDataset(train_x,train_y)\n",
    "data = DataLoader(data,batch_size=BATCH_SIZE,shuffle=True)"
   ]
  },
  {
   "cell_type": "code",
   "execution_count": 30,
   "id": "d8a28015-9848-4d0b-a7d2-bc131765af09",
   "metadata": {},
   "outputs": [],
   "source": [
    "class Model(torch.nn.Module):\n",
    "    \n",
    "    def __init__(self):\n",
    "        super(Model,self).__init__()\n",
    "        \n",
    "        self.layer1 = torch.nn.Linear(11,16)\n",
    "        self.layer2 = torch.nn.Linear(16,1)\n",
    "        self.sigmoid = torch.nn.Sigmoid()\n",
    "        self.relu = torch.nn.ReLU()\n",
    "        \n",
    "    def forward(self, x):\n",
    "        x = self.layer1(x)\n",
    "        x = self.relu(x)\n",
    "        x = self.layer2(x)\n",
    "        x = self.sigmoid(x)\n",
    "        return x"
   ]
  },
  {
   "cell_type": "code",
   "execution_count": 31,
   "id": "ed254624-a5b4-47dc-ab1d-450e0a3168fb",
   "metadata": {},
   "outputs": [
    {
     "name": "stdout",
     "output_type": "stream",
     "text": [
      "Model(\n",
      "  (layer1): Linear(in_features=11, out_features=16, bias=True)\n",
      "  (layer2): Linear(in_features=16, out_features=1, bias=True)\n",
      "  (sigmoid): Sigmoid()\n",
      "  (relu): ReLU()\n",
      ")\n"
     ]
    }
   ],
   "source": [
    "model = Model()\n",
    "print(model)"
   ]
  },
  {
   "cell_type": "code",
   "execution_count": 41,
   "id": "9fd199e7-7d7b-4762-a76c-0db4c07fc182",
   "metadata": {},
   "outputs": [
    {
     "name": "stdout",
     "output_type": "stream",
     "text": [
      "Dim :  209\n",
      "Layers Shape :  [(16, 11), (16,), (1, 16), (1,)]\n",
      "Layers Size :  [176, 16, 16, 1]\n"
     ]
    }
   ],
   "source": [
    "from pyswarms.single import GlobalBestPSO\n",
    "torch.manual_seed(420)\n",
    "torch.set_grad_enabled(False)\n",
    "\n",
    "model = Model()\n",
    "par = np.concatenate([i.numpy().flatten() for i in model.parameters()])\n",
    "shape = [i.numpy().shape for i in model.parameters()]\n",
    "size = [i[0]*i[1] if len(i) == 2 else i[0] for i in shape]\n",
    "\n",
    "print(\"Dim : \", len(par))\n",
    "print(\"Layers Shape : \", shape)\n",
    "print(\"Layers Size : \", size)"
   ]
  },
  {
   "cell_type": "code",
   "execution_count": 34,
   "id": "98bd4f24-50de-4531-b883-a183abe87e3a",
   "metadata": {},
   "outputs": [],
   "source": [
    "def objective_function(particle,shape=shape,size=size):\n",
    "    accuracy = []\n",
    "    output = []\n",
    "    \n",
    "\n",
    "    for par in particle:\n",
    "        param = list()\n",
    "        cum_sum = 0\n",
    "        for i in range(len(size)):\n",
    "            array = par[cum_sum : cum_sum + size[i]]\n",
    "            array = array.reshape(shape[i])\n",
    "            cum_sum += size[i]\n",
    "            param.append(array)\n",
    "        param = np.array(param, dtype=\"object\")\n",
    "        output.append(param)\n",
    "    \n",
    "    for i in range(len(output)):\n",
    " \n",
    "        model = Model()\n",
    "        for idx,wei in enumerate(model.parameters()):\n",
    "            wei.data = (torch.tensor(output[i][idx])).to(torch.float32)\n",
    "        \n",
    "    \n",
    "        y_pred = model(train_x)\n",
    "        y_pred = torch.where(y_pred>=0.5, 1, 0).flatten()\n",
    "        acc = (y_pred == train_y).sum().float().item() / len(data.dataset)\n",
    "        accuracy.append(1 - acc) \n",
    "        \n",
    "    return accuracy"
   ]
  },
  {
   "cell_type": "code",
   "execution_count": 36,
   "id": "ac47d15a-7ce8-4c87-8ec4-e78b64fd0dc4",
   "metadata": {},
   "outputs": [],
   "source": [
    "options = {'c1': 0.7, 'c2': 0.1, 'w': 0.3}\n",
    "dim = len(param)\n",
    "x_max = 1.0 * np.ones(dim)\n",
    "x_min = -1.0 * x_max\n",
    "bounds = (x_min, x_max)\n",
    "\n",
    "pso = GlobalBestPSO(n_particles=500, dimensions=209, options=options, bounds=bounds)"
   ]
  },
  {
   "cell_type": "code",
   "execution_count": 37,
   "id": "372f97a7-0a64-49f1-a02c-d2ae25f5922c",
   "metadata": {},
   "outputs": [
    {
     "name": "stderr",
     "output_type": "stream",
     "text": [
      "2023-04-05 13:46:23,335 - pyswarms.single.global_best - INFO - Optimize for 50 iters with {'c1': 0.7, 'c2': 0.1, 'w': 0.3}\n",
      "pyswarms.single.global_best: 100%|█████████████████████████████████████████████████████████████|50/50, best_cost=0.0377\n",
      "2023-04-05 13:46:35,537 - pyswarms.single.global_best - INFO - Optimization finished | best cost: 0.0377142857142857, best pos: [-1.35679324e-01  3.16049739e-01 -1.23684229e-01  1.20945646e-01\n",
      "  3.64310680e-01  6.10649313e-02  3.06468987e-01 -1.78698614e-01\n",
      "  1.62835209e-01 -1.26261108e-01  9.72018351e-02  8.45059575e-02\n",
      " -8.94865164e-02  4.36738295e-02 -2.21200933e-01  3.00675210e-01\n",
      " -3.36064257e-01  8.74037586e-02  9.45288183e-02 -7.78877263e-02\n",
      " -2.54018333e-02  1.22610051e-01  5.71812284e-02  4.24324307e-01\n",
      " -9.11532662e-02  5.55955462e-03  2.10131160e-01  8.19831360e-02\n",
      "  3.59814844e-01  9.88443028e-02 -5.80634063e-02  1.14470657e-01\n",
      " -2.58700378e-01 -1.45230865e-02  3.65495518e-01 -2.10330482e-01\n",
      " -2.19853631e-01  1.85184400e-01  3.33075277e-02  2.33447982e-01\n",
      " -2.54671549e-01  4.40637343e-01  2.13357035e-01 -2.67029753e-01\n",
      "  1.63782313e-01 -8.81583441e-03 -6.53218717e-04  3.79618275e-01\n",
      " -1.86529796e-01  1.87380284e-01  5.83793665e-02 -2.71884836e-01\n",
      "  3.01269370e-01  2.59983772e-01 -1.90714065e-03 -1.66501981e-02\n",
      " -2.66091636e-01 -2.67909942e-01 -1.44671226e-01 -9.28815152e-02\n",
      "  2.11344552e-01  1.70381616e-01  8.36146642e-02 -1.72718323e-01\n",
      " -8.64943503e-02  2.96724864e-01  1.70019216e-01 -8.86412062e-03\n",
      "  2.55342523e-01  2.42791489e-01  1.42259841e-01  4.08207885e-01\n",
      "  1.11912696e-01  1.98869509e-01  3.37856414e-01  1.50255118e-01\n",
      " -6.56876304e-02 -2.71482146e-02 -9.53426595e-02  2.75127441e-01\n",
      "  1.74161466e-01 -1.75570618e-01 -6.29762166e-02  1.48902481e-01\n",
      "  1.92005028e-01  1.19821344e-01  5.57091859e-03 -4.38232603e-02\n",
      "  2.33197550e-01  2.68311377e-02 -1.02706644e-01  1.69557010e-01\n",
      "  6.18738086e-02 -2.71851380e-01 -2.60436609e-01 -1.26743066e-01\n",
      " -2.25293095e-01 -9.69557857e-02 -1.20431219e-01  5.32193425e-02\n",
      " -2.50357958e-01 -2.60954310e-01 -1.94276048e-01  2.12539219e-01\n",
      "  4.61293292e-02  1.25555279e-01 -3.81344912e-01  1.48292441e-02\n",
      "  2.79746516e-01  7.02988431e-02 -1.14532810e-01  1.51386230e-01\n",
      "  2.25112332e-01 -2.22690791e-01  9.32465128e-02 -1.18181230e-01\n",
      " -1.17460006e-01  2.11605491e-02  1.09584660e-01  1.88332680e-02\n",
      "  1.88593587e-01 -1.89173754e-01  2.01854533e-01  4.03181330e-01\n",
      "  4.56162566e-02 -4.12697944e-03 -3.30133006e-02  1.51347122e-02\n",
      " -8.48126331e-02 -8.55938591e-02  1.03222271e-01  9.98123305e-02\n",
      "  2.98827895e-01 -7.75981932e-02 -3.88266411e-01  2.61072784e-01\n",
      " -1.79184077e-01  5.11215287e-02  4.84232010e-02 -3.41998032e-02\n",
      "  3.76953052e-02 -2.02416115e-01  6.58119604e-01 -3.36748431e-02\n",
      "  6.07991202e-02  1.89082096e-01 -6.86065911e-03  2.87348515e-01\n",
      " -4.62697516e-01 -1.43078956e-01  1.07150874e-01 -1.26175896e-01\n",
      " -2.83694499e-02  1.11987728e-01  4.03546150e-01  3.24968769e-01\n",
      "  3.73520423e-01  1.24181172e-01  5.30135020e-01  4.26746753e-02\n",
      "  2.95685046e-01  2.23125828e-01  3.55332916e-01 -4.54662994e-02\n",
      "  1.97879662e-01  4.28866894e-01  2.16275001e-01 -3.40212593e-01\n",
      "  3.88424597e-02  1.81127660e-01  2.31999363e-01  1.16870400e-01\n",
      " -2.82128021e-01  2.25559829e-02 -2.72822953e-01  2.21406035e-01\n",
      " -1.09976957e-01  3.79913471e-02  2.93276473e-01 -1.39496264e-01\n",
      "  1.57878964e-01  4.30409769e-01  9.80349048e-03  2.26611813e-01\n",
      "  2.75247484e-01 -1.99280324e-01 -3.00002613e-01  3.11301616e-01\n",
      "  3.61854235e-01  2.43399286e-01  7.48074826e-02  5.01418322e-01\n",
      "  2.40821363e-01 -4.52604634e-01 -2.62256843e-01  4.91750747e-02\n",
      " -2.20992677e-01 -4.86846491e-02  2.15156757e-01 -1.11064547e-01\n",
      " -1.72551876e-01 -2.46906451e-01 -2.59584998e-01  4.49505735e-01\n",
      " -2.60491115e-01  2.80390751e-02  1.74552265e-01  3.39138887e-02\n",
      " -2.24302800e-01]\n"
     ]
    },
    {
     "name": "stdout",
     "output_type": "stream",
     "text": [
      "Accuracy :  0.9622857142857143\n"
     ]
    }
   ],
   "source": [
    "best_cost, best_parameters = pso.optimize(objective_function, iters=50)\n",
    "print(\"Accuracy : \", 1 - best_cost)"
   ]
  },
  {
   "cell_type": "code",
   "execution_count": 38,
   "id": "3da19912-8aeb-4f59-91e7-c0310eaea2fe",
   "metadata": {},
   "outputs": [
    {
     "name": "stdout",
     "output_type": "stream",
     "text": [
      "Accuracy :  0.9622857142857143\n"
     ]
    }
   ],
   "source": [
    "result = []\n",
    "for par in [best_parameters]:\n",
    "    param = list()\n",
    "    cum_sum = 0\n",
    "    for i in range(len(size)):\n",
    "        array = par[cum_sum : cum_sum + size[i]]\n",
    "        array = array.reshape(shape[i])\n",
    "        cum_sum += size[i]\n",
    "        param.append(array)\n",
    "    param = np.array(param, dtype=\"object\")\n",
    "    result.append(param)\n",
    "\n",
    "best_model = Model()\n",
    "for idx,wei in enumerate(best_model.parameters()):\n",
    "    wei.data = (torch.tensor(result[0][idx])).to(torch.float32)\n",
    "\n",
    "\n",
    "y_pred = best_model(train_x)\n",
    "y_pred = torch.where(y_pred>=0.5, 1, 0).flatten()\n",
    "acc = (y_pred == train_y).sum().float().item() / len(data.dataset)\n",
    "print(\"Accuracy : \", acc)"
   ]
  },
  {
   "cell_type": "code",
   "execution_count": 39,
   "id": "f44d718a-1531-46e6-989e-435b93823ec5",
   "metadata": {},
   "outputs": [],
   "source": [
    "test_x = torch.from_numpy(x_test).to(torch.float32)\n",
    "test_y = torch.from_numpy(y_test).to(torch.float32)\n",
    "test = TensorDataset(test_x,test_y)\n",
    "test = DataLoader(test,batch_size=1)"
   ]
  },
  {
   "cell_type": "code",
   "execution_count": 40,
   "id": "41562df6-0ae4-4922-8406-df31912c1969",
   "metadata": {},
   "outputs": [
    {
     "name": "stdout",
     "output_type": "stream",
     "text": [
      "              precision    recall  f1-score   support\n",
      "\n",
      "           0       0.99      0.96      0.98      1390\n",
      "           1       0.66      0.89      0.76       110\n",
      "\n",
      "    accuracy                           0.96      1500\n",
      "   macro avg       0.83      0.93      0.87      1500\n",
      "weighted avg       0.97      0.96      0.96      1500\n",
      "\n"
     ]
    }
   ],
   "source": [
    "y_pred = best_model(test_x)\n",
    "y_pred = torch.where(y_pred>=0.5, 1, 0).flatten()\n",
    "print(classification_report(y_pred,test_y))"
   ]
  }
 ],
 "metadata": {
  "kernelspec": {
   "display_name": "Python 3 (ipykernel)",
   "language": "python",
   "name": "python3"
  },
  "language_info": {
   "codemirror_mode": {
    "name": "ipython",
    "version": 3
   },
   "file_extension": ".py",
   "mimetype": "text/x-python",
   "name": "python",
   "nbconvert_exporter": "python",
   "pygments_lexer": "ipython3",
   "version": "3.10.7"
  }
 },
 "nbformat": 4,
 "nbformat_minor": 5
}
